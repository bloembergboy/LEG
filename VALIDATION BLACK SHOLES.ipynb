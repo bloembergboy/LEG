{
 "cells": [
  {
   "cell_type": "markdown",
   "id": "6b04119e",
   "metadata": {},
   "source": [
    "# BLACK-SHOLES AND EIOPA RISK-FREE CURVE TERM STRUCTURE COVERAGE AND VARIANCE CHECK\n",
    "<a id=\"0\"></a> <br>\n",
    "ToDo\n",
    "The Hull-White model (HW) is a very popular choice when modeling interest rates. For example economic scenario generators can use the HW model to simulated risk-free curves. This notebook is devided into 4 sections. The first section uses the EIOPA Risk-Free-Rate (RFR) calibration to produce a yield curve. In the second section, this yield curve is used to produce a number of stochastic scenarios using a simple implementation of the HW model. The third section checks the goodness of fit of the simulated paths compared to the input term structure. The final section calculates the closed form variance and compares it to the simulated variance.\n",
    "\n",
    "HW model is presented in two different forms in literature. This script starts from the folowing diferential equation:\n",
    "\n",
    "$$ dr(t) = \\mu dt + \\sigma dW(t) $$\n",
    "\n",
    "Where:\n",
    " - t is time.\n",
    " - r(t) is the short rate at time t.\n",
    " - $\\theta (t)$ is the time-dependent parameter theta.\n",
    " - a is the mean reversion speed parameter.\n",
    " - $\\sigma$ is the volatility parameter.\n",
    " - $W(t)$ is a standard Brownian motion.\n"
   ]
  },
  {
   "cell_type": "markdown",
   "id": "1fec83f5",
   "metadata": {},
   "source": [
    "### Summary\n",
    "\n",
    "The goal of this script is to answer the following questions: \n",
    " - Is the HW simulation correctly implemented\n",
    " - Is the company is using a sufficienty large number of stochastic scenarios to aquaretly cover the term structure. \n",
    " - Are the parameters used in the simulation correctly implemented."
   ]
  },
  {
   "cell_type": "markdown",
   "id": "c3d4aca5",
   "metadata": {},
   "source": [
    "# Table of Contents  \n",
    "1. [Note on Smith & Wilson algorithm](#1)\n",
    "2. [Success criteria](#2)\n",
    "3. [Data requirements](#3)\n",
    "4. [Hull-White Parameters](#4)\n",
    "5. [External dependencies](#5)\n",
    "6. [Importing data](#6)\n",
    "7. [Smith & Wilson](#7)\n",
    "8. [Hull-White interest rate simulation functions](#8)\n",
    "9. [Test 1; Comparison between ESG output and assumed term structure](#9)\n",
    "10. [Test 2; Comparison between simulated an calculated volatility](#10)\n",
    "11. [Conclusion](#11)"
   ]
  },
  {
   "cell_type": "markdown",
   "id": "91cd8582",
   "metadata": {},
   "source": [
    "<a id=\"1\"></a> <br>\n",
    "## Note on Smith & Wilson algorithm\n",
    "\n",
    "The validation of RFR rate is performed in another script that checks the correct calibration of the EIOPA's RFR output, also available on OSM Github as a [Jupyter notebook](https://github.com/open-source-modelling/insurance_jupyter/tree/main/enough_stochastic_scenarios).\n",
    "\n",
    "This example uses a modified Smith&Wilson implementation (The original implementation is availible on [GitHub](https://github.com/open-source-modelling):\n",
    "-  [Python](https://github.com/open-source-modelling/insurance_python/tree/main/smith%26wilson)\n",
    "-  [Matlab](https://github.com/open-source-modelling/insurance_matlab/tree/main/smith%26wilson)\n",
    "-  [JavaScript](https://github.com/open-source-modelling/insurance_javascript/tree/main/smith-wilson)\n"
   ]
  },
  {
   "cell_type": "markdown",
   "id": "698030fb",
   "metadata": {},
   "source": [
    "#### Limitations of the implementation\n",
    "This script generates a synthetic dataset of ESG scenarios. It also simplifies the day-count convention with the assumption that each month represents 1/12-th of a year. The discretisation and numeric integration uses the simplest Euler scheme and the rectangular rule respectively.\n",
    "\n",
    "Only two checks are performed to verify the correctnes and the properties of the result.\n",
    "\n",
    "Only a single EIOPA curve is used (No volatility adjustment, Euro curve)."
   ]
  },
  {
   "cell_type": "markdown",
   "id": "a302c5b4",
   "metadata": {},
   "source": [
    "<a id=\"2\"></a> <br>\n",
    "## Success criteria\n",
    "\n",
    "The following success criteria is defined:\n",
    "-  Maximum difference between the average simulated yield curve and the one provided as input is less than 0.1 bps.\n",
    "-  Average difference between the average simulated curve and the one provided as input is less than 0.05 bps.\n",
    "-  Maximum difference between the empirical volatility of the simulated yield curve and the theoretical volatility is less than 0.1 bps.\n",
    "-  Average difference between the empirical volatility of the simulated yield curve and the theoretical volatility is less than 0.05 bps."
   ]
  },
  {
   "cell_type": "code",
   "execution_count": 100,
   "id": "6d6e95b1",
   "metadata": {},
   "outputs": [],
   "source": [
    "statistics_mean_max_diff_in_bps = 500\n",
    "statistics_mean_average_diff_in_bps = 100\n",
    "statistics_vol_max_diff_in_bps = 2\n",
    "statistics_vol_average_diff_in_bps = 1"
   ]
  },
  {
   "cell_type": "markdown",
   "id": "a060ea9c",
   "metadata": {},
   "source": [
    "The success function that is called at the end of every check is the following (With the threasholds that are defined above)."
   ]
  },
  {
   "cell_type": "code",
   "execution_count": 101,
   "id": "b624aa9a",
   "metadata": {},
   "outputs": [],
   "source": [
    "def SuccessTest(TestStatistics, threshold_max, threshold_mean):\n",
    "    out1 = False\n",
    "    out2 = False\n",
    "    if max(TestStatistics)<threshold_max:\n",
    "        print(\"Test passed\")\n",
    "        out1 = True\n",
    "    else:\n",
    "        print(\"Test failed\")\n",
    "\n",
    "    if np.mean(TestStatistics)<threshold_mean:\n",
    "        print(\"Test passed\")\n",
    "        out2 = True\n",
    "    else:\n",
    "        print(\"Test failed\")\n",
    "    return [out1, out2]"
   ]
  },
  {
   "cell_type": "markdown",
   "id": "649ad6eb",
   "metadata": {},
   "source": [
    "This implementation looks at two kinds of test statistics. The average deviation and the maximum deviation. \n",
    "\n",
    "The average deviation is defined as:\n",
    "\n",
    "<font size=4>\n",
    "$$S_{AVERAGE} = \\frac{1}{N} \\sum_{t = 0}^T \\left|x_{THEORETICAL}(t) - x_{EST}(t) \\right|$$\n",
    "</font> <br>\n",
    "\n",
    "The maximum deviation is defined as:\n",
    "<font size=4>\n",
    "$$ S_{MAX} = \\max_t \\left| x_{THEORETICAL}(t) - x_{EST}(t) \\right| $$\n",
    "</font> <br>\n",
    "\n",
    "Where `N` is the number of time increments and `T` is the maximum maturity \n",
    "</font> <br>\n"
   ]
  },
  {
   "cell_type": "markdown",
   "id": "07e93aac",
   "metadata": {},
   "source": [
    "<a id=\"3\"></a> <br>\n",
    "## Data requirements\n",
    "\n",
    "This script contains the EIOPA RFR published for March 2023. The publication can be found on the [EIOPA RFR website](https://www.eiopa.europa.eu/tools-and-data/risk-free-interest-rate-term-structures_en)."
   ]
  },
  {
   "cell_type": "markdown",
   "id": "31d36679",
   "metadata": {},
   "source": [
    "The observed maturities `m_obs` and the calibrated vector `Qb` can be found in the published Excel workbook *EIOPA_RFR_20230331_Qb_SW.xlsx*.\n",
    "\n",
    "The Euro curve without the volatility adjustment (VA) is used. It can be found in the sheet *SW_Qb_no_VA*. This example is focused on the EUR curve, but can be easily extended to other curves."
   ]
  },
  {
   "cell_type": "markdown",
   "id": "b2f16f4f",
   "metadata": {},
   "source": [
    "Target maturities (`t_obs`), the additional parameters (`UFR` and `alpha`), and the given curve can be found in the Excel *EIOPA_RFR_20230331_Term_Structures.xlsx*. Sheet *RFR_spot_no_VA* looks at the curve without the Volatility Adjustment."
   ]
  },
  {
   "cell_type": "markdown",
   "id": "b50e7ce9",
   "metadata": {},
   "source": [
    "<a id=\"4\"></a> <br>\n",
    "## Black-Sholes Parameters"
   ]
  },
  {
   "cell_type": "markdown",
   "id": "bc59fb82",
   "metadata": {},
   "source": [
    "This script provides validation for a single output of the Hull White modell. The run specification is:"
   ]
  },
  {
   "cell_type": "code",
   "execution_count": 102,
   "id": "5c729201",
   "metadata": {},
   "outputs": [],
   "source": [
    "import pandas as pd\n",
    "param_raw = pd.read_csv(\"Parameters.csv\", sep=',', index_col=0)"
   ]
  },
  {
   "cell_type": "code",
   "execution_count": 103,
   "id": "ada58f3b",
   "metadata": {},
   "outputs": [
    {
     "data": {
      "text/html": [
       "<div>\n",
       "<style scoped>\n",
       "    .dataframe tbody tr th:only-of-type {\n",
       "        vertical-align: middle;\n",
       "    }\n",
       "\n",
       "    .dataframe tbody tr th {\n",
       "        vertical-align: top;\n",
       "    }\n",
       "\n",
       "    .dataframe thead th {\n",
       "        text-align: right;\n",
       "    }\n",
       "</style>\n",
       "<table border=\"1\" class=\"dataframe\">\n",
       "  <thead>\n",
       "    <tr style=\"text-align: right;\">\n",
       "      <th></th>\n",
       "      <th>model</th>\n",
       "      <th>Type</th>\n",
       "      <th>NoOfPaths</th>\n",
       "      <th>NoOfSteps</th>\n",
       "      <th>T</th>\n",
       "      <th>a</th>\n",
       "      <th>sigma</th>\n",
       "      <th>epsilon</th>\n",
       "      <th>Country</th>\n",
       "      <th>selected_param_file</th>\n",
       "      <th>selected_curves_file</th>\n",
       "      <th>mu</th>\n",
       "      <th>gamma</th>\n",
       "    </tr>\n",
       "    <tr>\n",
       "      <th>Calibration_ID</th>\n",
       "      <th></th>\n",
       "      <th></th>\n",
       "      <th></th>\n",
       "      <th></th>\n",
       "      <th></th>\n",
       "      <th></th>\n",
       "      <th></th>\n",
       "      <th></th>\n",
       "      <th></th>\n",
       "      <th></th>\n",
       "      <th></th>\n",
       "      <th></th>\n",
       "      <th></th>\n",
       "    </tr>\n",
       "  </thead>\n",
       "  <tbody>\n",
       "    <tr>\n",
       "      <th>11</th>\n",
       "      <td>HW</td>\n",
       "      <td>I</td>\n",
       "      <td>1000</td>\n",
       "      <td>600</td>\n",
       "      <td>50</td>\n",
       "      <td>0.02</td>\n",
       "      <td>0.02</td>\n",
       "      <td>0.01</td>\n",
       "      <td>Slovenia</td>\n",
       "      <td>Param_no_VA.csv</td>\n",
       "      <td>Curves_no_VA.csv</td>\n",
       "      <td>0.00</td>\n",
       "      <td>0.0</td>\n",
       "    </tr>\n",
       "    <tr>\n",
       "      <th>22</th>\n",
       "      <td>BS</td>\n",
       "      <td>D</td>\n",
       "      <td>1000</td>\n",
       "      <td>600</td>\n",
       "      <td>50</td>\n",
       "      <td>0.00</td>\n",
       "      <td>0.02</td>\n",
       "      <td>0.01</td>\n",
       "      <td>Slovenia</td>\n",
       "      <td>Param_no_VA.csv</td>\n",
       "      <td>Curves_no_VA.csv</td>\n",
       "      <td>0.02</td>\n",
       "      <td>0.0</td>\n",
       "    </tr>\n",
       "    <tr>\n",
       "      <th>33</th>\n",
       "      <td>V</td>\n",
       "      <td>D</td>\n",
       "      <td>1000</td>\n",
       "      <td>600</td>\n",
       "      <td>50</td>\n",
       "      <td>0.00</td>\n",
       "      <td>0.02</td>\n",
       "      <td>0.01</td>\n",
       "      <td>Slovenia</td>\n",
       "      <td>Param_no_VA.csv</td>\n",
       "      <td>Curves_no_VA.csv</td>\n",
       "      <td>0.02</td>\n",
       "      <td>0.3</td>\n",
       "    </tr>\n",
       "  </tbody>\n",
       "</table>\n",
       "</div>"
      ],
      "text/plain": [
       "               model Type  NoOfPaths  NoOfSteps   T     a  sigma  epsilon  \\\n",
       "Calibration_ID                                                              \n",
       "11                HW    I       1000        600  50  0.02   0.02     0.01   \n",
       "22                BS    D       1000        600  50  0.00   0.02     0.01   \n",
       "33                 V    D       1000        600  50  0.00   0.02     0.01   \n",
       "\n",
       "                 Country selected_param_file selected_curves_file    mu  gamma  \n",
       "Calibration_ID                                                                  \n",
       "11              Slovenia     Param_no_VA.csv     Curves_no_VA.csv  0.00    0.0  \n",
       "22              Slovenia     Param_no_VA.csv     Curves_no_VA.csv  0.02    0.0  \n",
       "33              Slovenia     Param_no_VA.csv     Curves_no_VA.csv  0.02    0.3  "
      ]
     },
     "metadata": {},
     "output_type": "display_data"
    }
   ],
   "source": [
    "display(param_raw)"
   ]
  },
  {
   "cell_type": "markdown",
   "id": "c3474da3",
   "metadata": {},
   "source": [
    "This script will look at run with the callibration id that uses the Black-Sholes mode:"
   ]
  },
  {
   "cell_type": "code",
   "execution_count": 104,
   "id": "7110f8d5",
   "metadata": {},
   "outputs": [],
   "source": [
    "calibration_id = 22"
   ]
  },
  {
   "cell_type": "markdown",
   "id": "7378ce96",
   "metadata": {},
   "source": [
    "This example does not have a specific dataset in mind therefore, a set of dummy parameters is used for the Hull-White model:"
   ]
  },
  {
   "cell_type": "code",
   "execution_count": 105,
   "id": "738c22e8",
   "metadata": {},
   "outputs": [],
   "source": [
    "NoOfPaths = 1000 # Number of stochastic scenarios\n",
    "NoOfSteps = 600  # Number of equidistand discrete modelling points (50*12 = 600)\n",
    "T = 50.0         # Time horizon in years (A time horizon of 50 years; T=50)\n",
    "mu = 0.02         # Hull-White mean reversion parameter a\n",
    "sigma = 0.02     # Hull-White volatility parameter sigma\n",
    "epsilon = 0.01   # Incremental distance used to calculate for numerical approximation\n",
    "                 # of for example the instantaneous spot rate (Ex. 0.01 will use an interval \n",
    "                 # of 0.01 as a discreete approximation for a derivative)"
   ]
  },
  {
   "cell_type": "markdown",
   "id": "e1798e83",
   "metadata": {},
   "source": [
    " "
   ]
  },
  {
   "cell_type": "markdown",
   "id": "6d168914",
   "metadata": {},
   "source": [
    " "
   ]
  },
  {
   "cell_type": "markdown",
   "id": "b6346344",
   "metadata": {},
   "source": [
    " "
   ]
  },
  {
   "cell_type": "markdown",
   "id": "aebaf417",
   "metadata": {},
   "source": [
    " "
   ]
  },
  {
   "cell_type": "markdown",
   "id": "16d52409",
   "metadata": {},
   "source": [
    " "
   ]
  },
  {
   "cell_type": "markdown",
   "id": "f82bede2",
   "metadata": {},
   "source": [
    " "
   ]
  },
  {
   "cell_type": "markdown",
   "id": "e792c287",
   "metadata": {},
   "source": [
    " "
   ]
  },
  {
   "cell_type": "markdown",
   "id": "926e9c50",
   "metadata": {},
   "source": [
    " "
   ]
  },
  {
   "cell_type": "markdown",
   "id": "1d738085",
   "metadata": {},
   "source": [
    " "
   ]
  },
  {
   "cell_type": "markdown",
   "id": "67fe84f9",
   "metadata": {},
   "source": [
    " "
   ]
  },
  {
   "cell_type": "markdown",
   "id": "122e5986",
   "metadata": {},
   "source": [
    " "
   ]
  },
  {
   "cell_type": "markdown",
   "id": "7298077f",
   "metadata": {},
   "source": [
    " "
   ]
  },
  {
   "cell_type": "markdown",
   "id": "5ef721a4",
   "metadata": {},
   "source": [
    " "
   ]
  },
  {
   "cell_type": "markdown",
   "id": "0ef1c628",
   "metadata": {},
   "source": [
    " "
   ]
  },
  {
   "cell_type": "markdown",
   "id": "58c4cda4",
   "metadata": {},
   "source": [
    "<a id=\"5\"></a> <br>\n",
    "         \n",
    "## External dependencies"
   ]
  },
  {
   "cell_type": "markdown",
   "id": "dbeb172b",
   "metadata": {},
   "source": [
    "This script uses a set of well known Python packages that are commonly used in finance. Numpy for the mathematical operation and matrix multiplication, Pandas for its table manipulation functionality and Matplotlib for charts."
   ]
  },
  {
   "cell_type": "code",
   "execution_count": 106,
   "id": "06f5daac",
   "metadata": {},
   "outputs": [],
   "source": [
    "import numpy as np\n",
    "import pandas as pd\n",
    "import matplotlib as mpl\n",
    "import matplotlib.pyplot as plt"
   ]
  },
  {
   "cell_type": "code",
   "execution_count": 107,
   "id": "6a4bc7ae",
   "metadata": {},
   "outputs": [],
   "source": [
    "param_raw = pd.read_csv(\"Parameters.csv\", sep=',', index_col=0)"
   ]
  },
  {
   "cell_type": "code",
   "execution_count": 108,
   "id": "82f6efd6",
   "metadata": {},
   "outputs": [
    {
     "data": {
      "text/html": [
       "<div>\n",
       "<style scoped>\n",
       "    .dataframe tbody tr th:only-of-type {\n",
       "        vertical-align: middle;\n",
       "    }\n",
       "\n",
       "    .dataframe tbody tr th {\n",
       "        vertical-align: top;\n",
       "    }\n",
       "\n",
       "    .dataframe thead th {\n",
       "        text-align: right;\n",
       "    }\n",
       "</style>\n",
       "<table border=\"1\" class=\"dataframe\">\n",
       "  <thead>\n",
       "    <tr style=\"text-align: right;\">\n",
       "      <th></th>\n",
       "      <th>model</th>\n",
       "      <th>Type</th>\n",
       "      <th>NoOfPaths</th>\n",
       "      <th>NoOfSteps</th>\n",
       "      <th>T</th>\n",
       "      <th>a</th>\n",
       "      <th>sigma</th>\n",
       "      <th>epsilon</th>\n",
       "      <th>Country</th>\n",
       "      <th>selected_param_file</th>\n",
       "      <th>selected_curves_file</th>\n",
       "      <th>mu</th>\n",
       "      <th>gamma</th>\n",
       "    </tr>\n",
       "    <tr>\n",
       "      <th>Calibration_ID</th>\n",
       "      <th></th>\n",
       "      <th></th>\n",
       "      <th></th>\n",
       "      <th></th>\n",
       "      <th></th>\n",
       "      <th></th>\n",
       "      <th></th>\n",
       "      <th></th>\n",
       "      <th></th>\n",
       "      <th></th>\n",
       "      <th></th>\n",
       "      <th></th>\n",
       "      <th></th>\n",
       "    </tr>\n",
       "  </thead>\n",
       "  <tbody>\n",
       "    <tr>\n",
       "      <th>11</th>\n",
       "      <td>HW</td>\n",
       "      <td>I</td>\n",
       "      <td>1000</td>\n",
       "      <td>600</td>\n",
       "      <td>50</td>\n",
       "      <td>0.02</td>\n",
       "      <td>0.02</td>\n",
       "      <td>0.01</td>\n",
       "      <td>Slovenia</td>\n",
       "      <td>Param_no_VA.csv</td>\n",
       "      <td>Curves_no_VA.csv</td>\n",
       "      <td>0.00</td>\n",
       "      <td>0.0</td>\n",
       "    </tr>\n",
       "    <tr>\n",
       "      <th>22</th>\n",
       "      <td>BS</td>\n",
       "      <td>D</td>\n",
       "      <td>1000</td>\n",
       "      <td>600</td>\n",
       "      <td>50</td>\n",
       "      <td>0.00</td>\n",
       "      <td>0.02</td>\n",
       "      <td>0.01</td>\n",
       "      <td>Slovenia</td>\n",
       "      <td>Param_no_VA.csv</td>\n",
       "      <td>Curves_no_VA.csv</td>\n",
       "      <td>0.02</td>\n",
       "      <td>0.0</td>\n",
       "    </tr>\n",
       "    <tr>\n",
       "      <th>33</th>\n",
       "      <td>V</td>\n",
       "      <td>D</td>\n",
       "      <td>1000</td>\n",
       "      <td>600</td>\n",
       "      <td>50</td>\n",
       "      <td>0.00</td>\n",
       "      <td>0.02</td>\n",
       "      <td>0.01</td>\n",
       "      <td>Slovenia</td>\n",
       "      <td>Param_no_VA.csv</td>\n",
       "      <td>Curves_no_VA.csv</td>\n",
       "      <td>0.02</td>\n",
       "      <td>0.3</td>\n",
       "    </tr>\n",
       "  </tbody>\n",
       "</table>\n",
       "</div>"
      ],
      "text/plain": [
       "               model Type  NoOfPaths  NoOfSteps   T     a  sigma  epsilon  \\\n",
       "Calibration_ID                                                              \n",
       "11                HW    I       1000        600  50  0.02   0.02     0.01   \n",
       "22                BS    D       1000        600  50  0.00   0.02     0.01   \n",
       "33                 V    D       1000        600  50  0.00   0.02     0.01   \n",
       "\n",
       "                 Country selected_param_file selected_curves_file    mu  gamma  \n",
       "Calibration_ID                                                                  \n",
       "11              Slovenia     Param_no_VA.csv     Curves_no_VA.csv  0.00    0.0  \n",
       "22              Slovenia     Param_no_VA.csv     Curves_no_VA.csv  0.02    0.0  \n",
       "33              Slovenia     Param_no_VA.csv     Curves_no_VA.csv  0.02    0.3  "
      ]
     },
     "metadata": {},
     "output_type": "display_data"
    }
   ],
   "source": [
    "asset_id = 11\n",
    "display(param_raw)"
   ]
  },
  {
   "cell_type": "code",
   "execution_count": 109,
   "id": "5f0efb97",
   "metadata": {},
   "outputs": [
    {
     "name": "stdout",
     "output_type": "stream",
     "text": [
      "The Numpy version is 1.20.3.\n"
     ]
    }
   ],
   "source": [
    "print(f\"The Numpy version is {np.__version__}.\")"
   ]
  },
  {
   "cell_type": "code",
   "execution_count": 110,
   "id": "15aa3e14",
   "metadata": {},
   "outputs": [
    {
     "name": "stdout",
     "output_type": "stream",
     "text": [
      "The Pandas version is 1.3.4.\n"
     ]
    }
   ],
   "source": [
    "print(f\"The Pandas version is {pd.__version__}.\")"
   ]
  },
  {
   "cell_type": "code",
   "execution_count": 111,
   "id": "87660d5f",
   "metadata": {},
   "outputs": [
    {
     "name": "stdout",
     "output_type": "stream",
     "text": [
      "The Matplotlib version is 3.4.3.\n"
     ]
    }
   ],
   "source": [
    "print(f\"The Matplotlib version is {mpl.__version__}.\")"
   ]
  },
  {
   "cell_type": "markdown",
   "id": "2e3d51a8",
   "metadata": {},
   "source": [
    "<a id=\"6\"></a> <br>\n",
    "## Importing data"
   ]
  },
  {
   "cell_type": "markdown",
   "id": "60898959",
   "metadata": {},
   "source": [
    "This section specifies the names of external files with the information about the term structure. In particular, the Smith-Wilson calibration parameters and the term structure that is used to generate the stochastic paths."
   ]
  },
  {
   "cell_type": "code",
   "execution_count": 112,
   "id": "2183da18",
   "metadata": {},
   "outputs": [],
   "source": [
    "selected_param_file = 'Param_no_VA.csv'\n",
    "selected_curves_file = 'Curves_no_VA.csv'"
   ]
  },
  {
   "cell_type": "code",
   "execution_count": 113,
   "id": "e435f175",
   "metadata": {},
   "outputs": [],
   "source": [
    "param_raw = pd.read_csv(selected_param_file, sep=',', index_col=0)"
   ]
  },
  {
   "cell_type": "markdown",
   "id": "e899f27a",
   "metadata": {},
   "source": [
    "EIOPA provides curves for multiple countries. In this script, Slovenia is used as an example, but any other country can be substituted into the country variable."
   ]
  },
  {
   "cell_type": "code",
   "execution_count": 114,
   "id": "da95b722",
   "metadata": {},
   "outputs": [],
   "source": [
    "country = \"Slovenia\""
   ]
  },
  {
   "cell_type": "code",
   "execution_count": 115,
   "id": "e6935c8d",
   "metadata": {},
   "outputs": [],
   "source": [
    "maturities_country_raw = param_raw.loc[:,country+\"_Maturities\"].iloc[6:]\n",
    "param_country_raw = param_raw.loc[:,country + \"_Values\"].iloc[6:]\n",
    "extra_param = param_raw.loc[:,country + \"_Values\"].iloc[:6]"
   ]
  },
  {
   "cell_type": "code",
   "execution_count": 116,
   "id": "3709531b",
   "metadata": {},
   "outputs": [],
   "source": [
    "relevant_positions = pd.notna(maturities_country_raw.values)"
   ]
  },
  {
   "cell_type": "code",
   "execution_count": 117,
   "id": "647ef9b1",
   "metadata": {},
   "outputs": [],
   "source": [
    "maturities_country = maturities_country_raw.iloc[relevant_positions]"
   ]
  },
  {
   "cell_type": "code",
   "execution_count": 118,
   "id": "8b6822f7",
   "metadata": {},
   "outputs": [],
   "source": [
    "Qb = param_country_raw.iloc[relevant_positions]"
   ]
  },
  {
   "cell_type": "code",
   "execution_count": 119,
   "id": "2e549304",
   "metadata": {},
   "outputs": [],
   "source": [
    "curve_raw = pd.read_csv(selected_curves_file, sep=',',index_col=0)"
   ]
  },
  {
   "cell_type": "code",
   "execution_count": 120,
   "id": "26793b8c",
   "metadata": {},
   "outputs": [],
   "source": [
    "curve_country = curve_raw.loc[:,country]"
   ]
  },
  {
   "cell_type": "markdown",
   "id": "b76f503a",
   "metadata": {},
   "source": [
    " "
   ]
  },
  {
   "cell_type": "markdown",
   "id": "22910c29",
   "metadata": {},
   "source": [
    " "
   ]
  },
  {
   "cell_type": "markdown",
   "id": "0249a8a3",
   "metadata": {},
   "source": [
    " "
   ]
  },
  {
   "cell_type": "markdown",
   "id": "4d62102a",
   "metadata": {},
   "source": [
    " "
   ]
  },
  {
   "cell_type": "markdown",
   "id": "17b49387",
   "metadata": {},
   "source": [
    " "
   ]
  },
  {
   "cell_type": "markdown",
   "id": "f4019257",
   "metadata": {},
   "source": [
    " "
   ]
  },
  {
   "cell_type": "markdown",
   "id": "9808a91e",
   "metadata": {},
   "source": [
    " "
   ]
  },
  {
   "cell_type": "markdown",
   "id": "43b83c47",
   "metadata": {},
   "source": [
    " "
   ]
  },
  {
   "cell_type": "markdown",
   "id": "f1bd79cf",
   "metadata": {},
   "source": [
    " "
   ]
  },
  {
   "cell_type": "markdown",
   "id": "ca42bdc5",
   "metadata": {},
   "source": [
    " "
   ]
  },
  {
   "cell_type": "markdown",
   "id": "7b7433bb",
   "metadata": {},
   "source": [
    " "
   ]
  },
  {
   "cell_type": "markdown",
   "id": "7f2511f8",
   "metadata": {},
   "source": [
    "<a id=\"7\"></a> <br>\n",
    "## Smith & Wilson"
   ]
  },
  {
   "cell_type": "markdown",
   "id": "5db1d1d9",
   "metadata": {},
   "source": [
    "In this section, the EIOPA parameters and the EIOPA RFR curve are processed into the correct form that will be used for the rest of the script"
   ]
  },
  {
   "cell_type": "markdown",
   "id": "4d90169a",
   "metadata": {},
   "source": [
    "### Smith & Wilson parameters"
   ]
  },
  {
   "cell_type": "code",
   "execution_count": 121,
   "id": "0eadd369",
   "metadata": {},
   "outputs": [],
   "source": [
    "# Maturity of observations:\n",
    "m_obs = np.transpose(np.array(maturities_country.values))\n",
    "\n",
    "# Ultimate froward rate ufr represents the rate to which the rate curve will \n",
    "# converge as time increases:\n",
    "ufr = extra_param.iloc[3]/100\n",
    "\n",
    "# Convergence speed parameter alpha controls the speed at which the curve \n",
    "# converges towards the ufr from the last liquid point:\n",
    "alpha = extra_param.iloc[4]\n",
    "\n",
    "# For which maturities do we want the SW algorithm to calculate the rates. \n",
    "# In this case, for every year up to 150:\n",
    "m_target = np.transpose(np.arange(1,151)) \n",
    "\n",
    "# Qb calibration vector published by EIOPA for the curve calibration:\n",
    "Qb = np.transpose(np.array(Qb.values))"
   ]
  },
  {
   "cell_type": "markdown",
   "id": "47dfc6f4",
   "metadata": {},
   "source": [
    "### Smith & Wilson calculation functions\n",
    "\n",
    "An independent version of the Smith&Wilson algorithm is implemented. To facilitate this, two functions are taken from the publicly available repository that already contains the complete implementation. It is then modified to accept the product of `Q*b` instead of the calibration vector `b`."
   ]
  },
  {
   "cell_type": "code",
   "execution_count": 122,
   "id": "63883ebc",
   "metadata": {},
   "outputs": [],
   "source": [
    "from term_structure import smith_wilson_extrapolate_yield_curve"
   ]
  },
  {
   "cell_type": "markdown",
   "id": "237056a4",
   "metadata": {},
   "source": [
    " "
   ]
  },
  {
   "cell_type": "markdown",
   "id": "75add4e1",
   "metadata": {},
   "source": [
    " "
   ]
  },
  {
   "cell_type": "markdown",
   "id": "66ebad3b",
   "metadata": {},
   "source": [
    " "
   ]
  },
  {
   "cell_type": "markdown",
   "id": "bfb5b275",
   "metadata": {},
   "source": [
    " "
   ]
  },
  {
   "cell_type": "markdown",
   "id": "57cb488b",
   "metadata": {},
   "source": [
    " "
   ]
  },
  {
   "cell_type": "markdown",
   "id": "4db15038",
   "metadata": {},
   "source": [
    " "
   ]
  },
  {
   "cell_type": "markdown",
   "id": "732e8eef",
   "metadata": {},
   "source": [
    "<a id=\"8\"></a> <br>\n",
    "## Hull-White interest rate simulation functions\n",
    "\n",
    "In this step, the Hull-White simulation is implemented. The calculation of a discounted ZCB bond, calculation of a forward rate, the parameter $\\theta $ and finally the generation of multiple sample paths.\n",
    "\n",
    "The function P0t_f() calculates the price of a zero-coupon bond (ZCB) based on the given yield and maturity.\n",
    "\n",
    "$$ P0t = e^{-y0t *t} $$\n",
    "\n",
    "Where:\n",
    " - `t` is the time of interest expressed as a year fraction (Ex. for 18 months, `t` = 1.5).\n",
    " - `y0t` is the yield for single payoff at time `t`.\n",
    " -  `P0t` is the price of a zero-coupon bond issued in time `0` with a notional amount of 1 and maturity at time `t`."
   ]
  },
  {
   "cell_type": "markdown",
   "id": "a8134f90",
   "metadata": {},
   "source": [
    " "
   ]
  },
  {
   "cell_type": "markdown",
   "id": "500b3874",
   "metadata": {},
   "source": [
    " "
   ]
  },
  {
   "cell_type": "markdown",
   "id": "61ad3ee1",
   "metadata": {},
   "source": [
    " "
   ]
  },
  {
   "cell_type": "markdown",
   "id": "4d2b4a2b",
   "metadata": {},
   "source": [
    " "
   ]
  },
  {
   "cell_type": "markdown",
   "id": "8ac6b55b",
   "metadata": {},
   "source": [
    "The function f0t() calculates the instantaneous forward rate at time `t` using a numerical approximation with a step size given by the parameter `epsilon`. The calculation of the instantaneous forward rate relies on the difference between two zero-coupon bond prices. One maturing at time $t +\\epsilon $ and another at time $t - \\epsilon $. \n"
   ]
  },
  {
   "cell_type": "markdown",
   "id": "b03afae4",
   "metadata": {},
   "source": [
    "\n",
    "The centered finite difference method estimates the instantaneous forward rate using the following approximation:\n",
    "\n",
    "$$ f(0,t) \\approx -\\frac{\\log(P(0, t+\\epsilon)) - \\log(P(0, t-\\epsilon)) }{2 \\epsilon}  $$"
   ]
  },
  {
   "cell_type": "markdown",
   "id": "a47a8498",
   "metadata": {},
   "source": [
    "The function HW_theta calculates the time depened parameter $\\theta$. In this implementation, this parameter is calibrated to the term stucture obtained using the EIOPA RFR. The term structure is specified by the P0t function that is passed as argument.\n",
    "\n",
    "The parameter `theta` is calibrated using the following relation:\n",
    "\n",
    "$$ \\theta(t) =  \\frac{\\partial f(0,t)}{\\partial t} + a f(0,t) + \\frac{\\sigma^2}{2 a}\\big( 1 - e^{-2 a t} \\big)    $$\n",
    "\n",
    "Where:\n",
    " - `t` is the time at which we wish to calibrate $\\theta$ to the term structure. (Ex. 18 months means t = 1.5).\n",
    " - $a$ is the $ a$ parameter in the Hull-White model.\n",
    " - $\\sigma$ is the volatility parameter $ \\sigma$ of the Hull-White model.\n",
    " - $f(0,t)$ is the instantaneous forward rate at time `t` estimated at time 0.\n",
    " - $\\theta(t)$ is the time dependet parameter $\\theta$ of the Hull-White model."
   ]
  },
  {
   "cell_type": "code",
   "execution_count": 123,
   "id": "ab97473b",
   "metadata": {},
   "outputs": [],
   "source": [
    "from term_structure import calculate_zero_coupon_price\n",
    "from read_input import read_model_input\n",
    "from black_sholes import calculate_black_sholes_paths"
   ]
  },
  {
   "cell_type": "code",
   "execution_count": 124,
   "id": "ff8e5258",
   "metadata": {},
   "outputs": [],
   "source": [
    "[modeling_parameters, curve_parameters] = read_model_input(calibration_id)"
   ]
  },
  {
   "cell_type": "code",
   "execution_count": 125,
   "id": "58e21fd2",
   "metadata": {},
   "outputs": [],
   "source": [
    "zero_coupon_price = lambda t: calculate_zero_coupon_price(t, curve_parameters[\"target_maturities\"], curve_parameters[\"calibration_vector\"], curve_parameters[\"ultimate_forward_rate\"], curve_parameters[\"convergence_speed\"] )"
   ]
  },
  {
   "cell_type": "code",
   "execution_count": 126,
   "id": "69681589",
   "metadata": {},
   "outputs": [],
   "source": [
    "out = calculate_black_sholes_paths(num_paths=modeling_parameters[\"num_paths\"], num_steps=modeling_parameters[\"num_steps\"], end_time=modeling_parameters[\"end_time\"], function_zero_coupon_price=zero_coupon_price, mean_drift=modeling_parameters[\"mu\"], volatility=modeling_parameters[\"sigma\"], tolerance=modeling_parameters[\"tolerance\"])\n"
   ]
  },
  {
   "cell_type": "code",
   "execution_count": 127,
   "id": "e3989cbf",
   "metadata": {},
   "outputs": [
    {
     "data": {
      "image/png": "[encoded data removed]",
      "text/plain": [
       "<Figure size 432x288 with 1 Axes>"
      ]
     },
     "metadata": {
      "needs_background": "light"
     },
     "output_type": "display_data"
    }
   ],
   "source": [
    "plt.figure(1)\n",
    "plt.grid()\n",
    "plt.xlabel(\"t\")\n",
    "plt.ylabel(\"P(0,t)\")\n",
    "plt.plot(out[\"time\"],np.transpose(out[\"R\"]))\n",
    "plt.show()"
   ]
  },
  {
   "cell_type": "code",
   "execution_count": 128,
   "id": "84899374",
   "metadata": {},
   "outputs": [],
   "source": [
    "y_1 = out[\"R\"][0,0] + (mu-sigma**2 /2) * out[\"time\"] "
   ]
  },
  {
   "cell_type": "code",
   "execution_count": 129,
   "id": "c29bcb75",
   "metadata": {},
   "outputs": [
    {
     "data": {
      "image/png": "[encoded data removed]",
      "text/plain": [
       "<Figure size 432x288 with 1 Axes>"
      ]
     },
     "metadata": {
      "needs_background": "light"
     },
     "output_type": "display_data"
    }
   ],
   "source": [
    "plt.figure(1)\n",
    "plt.grid()\n",
    "plt.xlabel(\"t\")\n",
    "plt.ylabel(\"P(0,t)\")\n",
    "plt.plot(out[\"time\"],np.mean(np.transpose(out[\"R\"]),axis=1))\n",
    "plt.plot(out[\"time\"], y_1,\"--r\")\n",
    "plt.show()"
   ]
  },
  {
   "cell_type": "code",
   "execution_count": 130,
   "id": "150c615c",
   "metadata": {},
   "outputs": [],
   "source": [
    "y_2 = np.sqrt(sigma**2 * out[\"time\"]) "
   ]
  },
  {
   "cell_type": "code",
   "execution_count": 131,
   "id": "d2ed7c41",
   "metadata": {},
   "outputs": [
    {
     "data": {
      "image/png": "[encoded data removed]",
      "text/plain": [
       "<Figure size 432x288 with 1 Axes>"
      ]
     },
     "metadata": {
      "needs_background": "light"
     },
     "output_type": "display_data"
    }
   ],
   "source": [
    "plt.figure(1)\n",
    "plt.grid()\n",
    "plt.xlabel(\"t\")\n",
    "plt.ylabel(\"P(0,t)\")\n",
    "plt.plot(out[\"time\"],np.std(np.transpose(out[\"R\"]),axis=1))\n",
    "plt.plot(out[\"time\"], y_2,\"--r\")\n",
    "plt.show()"
   ]
  },
  {
   "cell_type": "markdown",
   "id": "577414a1",
   "metadata": {},
   "source": [
    "<a id=\"9\"></a> <br>\n",
    "## Test 1; Comparison between ESG output and assumed term structure \n",
    "\n",
    "In this final section, the ESG output is generated and visualy compared to the assumed term structure. The Hull-White model belongs to the family of modells known as HJM. A well known property of this family of models is that the average rate over all simulations should be equal to the input term structure by construction. However in practice, this is often not exactly the case especially in the tails of the curve and if the number of paths is small. The visual check shows the average simulation compared to the input term structure (interpolated/extrapolated by the Smith-Willson algorithm)."
   ]
  },
  {
   "cell_type": "markdown",
   "id": "a2e3527e",
   "metadata": {},
   "source": [
    "***\n",
    "<span style=color:black>\n",
    "    <b>Implied and simulated price of a ZCB</b>\n",
    "</span>\n",
    "<br>\n",
    "<span style=color:black>   \n",
    "    Visual comparison\n",
    "</span>"
   ]
  },
  {
   "cell_type": "code",
   "execution_count": 132,
   "id": "510bfd54",
   "metadata": {},
   "outputs": [
    {
     "data": {
      "text/plain": [
       "Text(0.5, 1.0, 'ZCBs from Hull-White model')"
      ]
     },
     "execution_count": 132,
     "metadata": {},
     "output_type": "execute_result"
    },
    {
     "data": {
      "image/png": "[encoded data removed]",
      "text/plain": [
       "<Figure size 432x288 with 1 Axes>"
      ]
     },
     "metadata": {
      "needs_background": "light"
     },
     "output_type": "display_data"
    }
   ],
   "source": [
    "plt.figure(1)\n",
    "plt.grid()\n",
    "plt.xlabel(\"t\")\n",
    "plt.ylabel(\"P(0,t)\")\n",
    "plt.plot(t, implied_term_structure)\n",
    "plt.plot(t, P,\"--r\")\n",
    "plt.legend([\"P(0,t) market\", \"P(0,t) Monte Carlo\"])\n",
    "plt.title(\"ZCBs from Hull-White model\")"
   ]
  },
  {
   "cell_type": "markdown",
   "id": "b99378df",
   "metadata": {},
   "source": [
    "***"
   ]
  },
  {
   "cell_type": "code",
   "execution_count": 133,
   "id": "9d769ef7",
   "metadata": {},
   "outputs": [],
   "source": [
    "test_statistics_bdp_1 = pd.DataFrame(abs(P- implied_term_structure)*10000, columns=[\"Abs diff in bps\"])"
   ]
  },
  {
   "cell_type": "markdown",
   "id": "6c19bcd0",
   "metadata": {},
   "source": [
    "***\n",
    "<span style=color:black>\n",
    "    <b>Implied and simulated term structure</b>\n",
    "</span>\n",
    "<br>\n",
    "<span style=color:black>   \n",
    "    Absolute difference in bps\n",
    "</span>"
   ]
  },
  {
   "cell_type": "code",
   "execution_count": 134,
   "id": "c878316d",
   "metadata": {},
   "outputs": [
    {
     "data": {
      "text/html": [
       "<div>\n",
       "<style scoped>\n",
       "    .dataframe tbody tr th:only-of-type {\n",
       "        vertical-align: middle;\n",
       "    }\n",
       "\n",
       "    .dataframe tbody tr th {\n",
       "        vertical-align: top;\n",
       "    }\n",
       "\n",
       "    .dataframe thead th {\n",
       "        text-align: right;\n",
       "    }\n",
       "</style>\n",
       "<table border=\"1\" class=\"dataframe\">\n",
       "  <thead>\n",
       "    <tr style=\"text-align: right;\">\n",
       "      <th></th>\n",
       "      <th>Abs diff in bps</th>\n",
       "    </tr>\n",
       "  </thead>\n",
       "  <tbody>\n",
       "    <tr>\n",
       "      <th>0</th>\n",
       "      <td>2.220446e-12</td>\n",
       "    </tr>\n",
       "    <tr>\n",
       "      <th>1</th>\n",
       "      <td>6.884390e-01</td>\n",
       "    </tr>\n",
       "    <tr>\n",
       "      <th>2</th>\n",
       "      <td>2.758009e+00</td>\n",
       "    </tr>\n",
       "    <tr>\n",
       "      <th>3</th>\n",
       "      <td>6.214429e+00</td>\n",
       "    </tr>\n",
       "    <tr>\n",
       "      <th>4</th>\n",
       "      <td>1.106268e+01</td>\n",
       "    </tr>\n",
       "  </tbody>\n",
       "</table>\n",
       "</div>"
      ],
      "text/plain": [
       "   Abs diff in bps\n",
       "0     2.220446e-12\n",
       "1     6.884390e-01\n",
       "2     2.758009e+00\n",
       "3     6.214429e+00\n",
       "4     1.106268e+01"
      ]
     },
     "execution_count": 134,
     "metadata": {},
     "output_type": "execute_result"
    }
   ],
   "source": [
    "test_statistics_bdp_1.head()"
   ]
  },
  {
   "cell_type": "markdown",
   "id": "2ba10cde",
   "metadata": {},
   "source": [
    "***"
   ]
  },
  {
   "cell_type": "markdown",
   "id": "9727e479",
   "metadata": {},
   "source": [
    "### Test 1; Success criteria\n",
    "\n",
    "The successful application of the success criteria marks the completion/failiure of the test."
   ]
  },
  {
   "cell_type": "code",
   "execution_count": 135,
   "id": "86c6cb63",
   "metadata": {},
   "outputs": [
    {
     "name": "stdout",
     "output_type": "stream",
     "text": [
      "Test failed\n",
      "Test failed\n"
     ]
    }
   ],
   "source": [
    "result1 = SuccessTest(test_statistics_bdp_1.values, statistics_mean_max_diff_in_bps, statistics_mean_average_diff_in_bps)"
   ]
  },
  {
   "cell_type": "code",
   "execution_count": 136,
   "id": "e0fc7cf8",
   "metadata": {},
   "outputs": [
    {
     "data": {
      "image/png": "[encoded data removed]",
      "text/plain": [
       "<Figure size 432x216 with 1 Axes>"
      ]
     },
     "metadata": {
      "needs_background": "light"
     },
     "output_type": "display_data"
    }
   ],
   "source": [
    "fig, ax1 = plt.subplots(1,1)\n",
    "ax1.plot(t, test_statistics_bdp_1, label= \"Absolute difference\")\n",
    "ax1.axhline(y = statistics_mean_max_diff_in_bps, color = 'r', linestyle = '-',label=\"Max allowed diff\")\n",
    "\n",
    "ax1.set_xlabel(\"time\")\n",
    "ax1.set_ylabel(\"Difference (in bps)\")\n",
    "ax1.set_title('Absolute difference in term structure')\n",
    "ax1.legend()\n",
    "fig.set_figwidth(6)\n",
    "fig.set_figheight(3)\n",
    "\n",
    "plt.show()"
   ]
  },
  {
   "cell_type": "markdown",
   "id": "982edefa",
   "metadata": {},
   "source": [
    "<a id=\"10\"></a> <br>\n",
    "\n",
    "## Test 2; Comparison between simulated an calculated volatility\n",
    "\n",
    "The Hull-White model is one of the few widely used short rate models that has a closed-form formula for the calculation of the volatility. The formula is:\n",
    "\n",
    "$$ V[r(t)｜F_0] = \\frac{\\sigma^2}{2a}\\big( 1-e^{-2at} \\big) $$\n",
    "\n",
    "This fact makes it possible to compare the volatility calculated from the parameters with the simulated volatility. \n"
   ]
  },
  {
   "cell_type": "code",
   "execution_count": 137,
   "id": "2b97115c",
   "metadata": {},
   "outputs": [
    {
     "ename": "NameError",
     "evalue": "name 'Paths' is not defined",
     "output_type": "error",
     "traceback": [
      "\u001b[1;31m---------------------------------------------------------------------------\u001b[0m",
      "\u001b[1;31mNameError\u001b[0m                                 Traceback (most recent call last)",
      "\u001b[1;32m~\\AppData\\Local\\Temp/ipykernel_20168/3386586715.py\u001b[0m in \u001b[0;36m<module>\u001b[1;34m\u001b[0m\n\u001b[1;32m----> 1\u001b[1;33m \u001b[0mpaths\u001b[0m \u001b[1;33m=\u001b[0m \u001b[0mPaths\u001b[0m\u001b[1;33m(\u001b[0m\u001b[0mNoOfPaths\u001b[0m\u001b[1;33m,\u001b[0m \u001b[0mNoOfSteps\u001b[0m\u001b[1;33m,\u001b[0m \u001b[0mT\u001b[0m\u001b[1;33m,\u001b[0m \u001b[0mP0t\u001b[0m\u001b[1;33m,\u001b[0m \u001b[0ma\u001b[0m\u001b[1;33m,\u001b[0m \u001b[0msigma\u001b[0m\u001b[1;33m,\u001b[0m \u001b[0mepsilon\u001b[0m\u001b[1;33m)\u001b[0m\u001b[1;33m\u001b[0m\u001b[1;33m\u001b[0m\u001b[0m\n\u001b[0m\u001b[0;32m      2\u001b[0m \u001b[0mR\u001b[0m \u001b[1;33m=\u001b[0m \u001b[0mpaths\u001b[0m\u001b[1;33m[\u001b[0m\u001b[1;34m\"R\"\u001b[0m\u001b[1;33m]\u001b[0m\u001b[1;33m\u001b[0m\u001b[1;33m\u001b[0m\u001b[0m\n\u001b[0;32m      3\u001b[0m \u001b[0mt\u001b[0m \u001b[1;33m=\u001b[0m \u001b[0mpaths\u001b[0m\u001b[1;33m[\u001b[0m\u001b[1;34m\"time\"\u001b[0m\u001b[1;33m]\u001b[0m\u001b[1;33m\u001b[0m\u001b[1;33m\u001b[0m\u001b[0m\n",
      "\u001b[1;31mNameError\u001b[0m: name 'Paths' is not defined"
     ]
    }
   ],
   "source": [
    "paths = Paths(NoOfPaths, NoOfSteps, T, P0t, a, sigma, epsilon)\n",
    "R = paths[\"R\"]\n",
    "t = paths[\"time\"]"
   ]
  },
  {
   "cell_type": "code",
   "execution_count": null,
   "id": "5aa1e3f8",
   "metadata": {},
   "outputs": [],
   "source": [
    "time = np.linspace(start=0,stop=T,num=NoOfSteps+1, endpoint=True)"
   ]
  },
  {
   "cell_type": "code",
   "execution_count": null,
   "id": "21b4c1b2",
   "metadata": {},
   "outputs": [],
   "source": [
    "var_series = np.var(R, axis=0)"
   ]
  },
  {
   "cell_type": "code",
   "execution_count": null,
   "id": "81f48648",
   "metadata": {},
   "outputs": [],
   "source": [
    "vol = sigma**2/(2*a)*(1-np.exp(-2*a*time))"
   ]
  },
  {
   "cell_type": "code",
   "execution_count": null,
   "id": "23a0caa8",
   "metadata": {},
   "outputs": [],
   "source": [
    "plt.figure(1)\n",
    "plt.grid()\n",
    "plt.xlabel(\"t\")\n",
    "plt.ylabel(\"V(0,t)\")\n",
    "plt.plot(t,var_series)\n",
    "plt.plot(t,vol,\"--r\")\n",
    "plt.legend([\"V(0,t) simulated\", \"V(0,T) closed formula\"])\n",
    "plt.title(\"Variance function from Hull-White model\")"
   ]
  },
  {
   "cell_type": "code",
   "execution_count": null,
   "id": "d1c5d37f",
   "metadata": {},
   "outputs": [],
   "source": [
    "test_statistics_bdp_2 = pd.DataFrame(abs(var_series-vol)*10000, columns=[\"Abs diff in bps\"])"
   ]
  },
  {
   "cell_type": "markdown",
   "id": "5345b610",
   "metadata": {},
   "source": [
    "***"
   ]
  },
  {
   "cell_type": "markdown",
   "id": "46a1be21",
   "metadata": {},
   "source": [
    "***\n",
    "<span style=color:black>\n",
    "    <b>Theoretical and simulated volatility</b>\n",
    "</span>\n",
    "<br>\n",
    "<span style=color:black>   \n",
    "    Absolute difference in bps\n",
    "</span>"
   ]
  },
  {
   "cell_type": "code",
   "execution_count": null,
   "id": "0eb1eaa8",
   "metadata": {},
   "outputs": [],
   "source": [
    "test_statistics_bdp_2.head()"
   ]
  },
  {
   "cell_type": "markdown",
   "id": "61a213c5",
   "metadata": {},
   "source": [
    "***"
   ]
  },
  {
   "cell_type": "markdown",
   "id": "b8536ad3",
   "metadata": {},
   "source": [
    "### Test 2; Success criteria\n",
    "\n",
    "The successful application of the success criteria marks the completion/failiure of the test."
   ]
  },
  {
   "cell_type": "code",
   "execution_count": null,
   "id": "1c26a1b4",
   "metadata": {},
   "outputs": [],
   "source": [
    "result2 = SuccessTest(test_statistics_bdp_2.values, statistics_vol_max_diff_in_bps, statistics_vol_average_diff_in_bps)"
   ]
  },
  {
   "cell_type": "code",
   "execution_count": null,
   "id": "7051448d",
   "metadata": {},
   "outputs": [],
   "source": [
    "fig, ax1 = plt.subplots(1,1)\n",
    "ax1.plot(t, test_statistics_bdp_2, label= \"Absolute difference\")\n",
    "ax1.axhline(y = statistics_vol_max_diff_in_bps, color = 'r', linestyle = '-',label=\"Max allowed diff\")\n",
    "\n",
    "ax1.set_xlabel(\"time\")\n",
    "ax1.set_ylabel(\"Difference (in bps)\")\n",
    "ax1.set_title('Absolute difference in volatility')\n",
    "ax1.legend()\n",
    "fig.set_figwidth(6)\n",
    "fig.set_figheight(3)\n",
    "\n",
    "plt.show()"
   ]
  },
  {
   "cell_type": "markdown",
   "id": "d9a21900",
   "metadata": {},
   "source": [
    "<a id=\"11\"></a> <br>\n",
    "## Conclusion\n",
    "\n",
    "The tests are successfull if the Hull-White curve generator calibrated using the March 2023 EIOPA curve, passes the success criteria. Based on the preformed tests, if all the tests pass, it is likely that the implementation was generated using a correct methodology and ran using the correct parameters."
   ]
  },
  {
   "cell_type": "code",
   "execution_count": null,
   "id": "043dbe75",
   "metadata": {},
   "outputs": [],
   "source": [
    "pd.DataFrame(data = [result1, result2], columns = [\"Mean test\",\"Max test\"],  \\\n",
    "             index= [\"Average term structure\",\"Theoretical vs empirical volatility\"])"
   ]
  }
 ],
 "metadata": {
  "kernelspec": {
   "display_name": "Python 3 (ipykernel)",
   "language": "python",
   "name": "python3"
  },
  "language_info": {
   "codemirror_mode": {
    "name": "ipython",
    "version": 3
   },
   "file_extension": ".py",
   "mimetype": "text/x-python",
   "name": "python",
   "nbconvert_exporter": "python",
   "pygments_lexer": "ipython3",
   "version": "3.9.7"
  }
 },
 "nbformat": 4,
 "nbformat_minor": 5
}
